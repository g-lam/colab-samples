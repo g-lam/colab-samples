{
  "cells": [
    {
      "cell_type": "markdown",
      "metadata": {},
      "source": [
        "<a href=\"https://colab.research.google.com/github/g-lam/colab-samples/blob/main/Text-to-Image/Stable_Diffusion_TPU.ipynb\" target=\"_parent\"><img src=\"https://colab.research.google.com/assets/colab-badge.svg\" alt=\"Open In Colab\"/></a>"
      ]
    },
    {
      "cell_type": "code",
      "execution_count": null,
      "metadata": {
        "id": "ufD_d64nr08H"
      },
      "outputs": [],
      "source": [
        "import jax.tools.colab_tpu\n",
        "jax.tools.colab_tpu.setup_tpu('tpu_driver_20221011')\n",
        "jax.devices()\n",
        "\n",
        "%pip install --quiet --upgrade diffusers transformers ftfy mediapy"
      ]
    },
    {
      "cell_type": "code",
      "execution_count": null,
      "metadata": {},
      "outputs": [],
      "source": [
        "import numpy as np\n",
        "import jax\n",
        "import jax.numpy as jnp\n",
        "import time\n",
        "import torch\n",
        "\n",
        "from pathlib import Path\n",
        "from jax import pmap\n",
        "from flax.jax_utils import replicate\n",
        "from flax.training.common_utils import shard\n",
        "from PIL import Image\n",
        "\n",
        "from diffusers import FlaxStableDiffusionPipeline\n",
        "\n",
        "def image_grid(imgs, rows, cols):\n",
        "    w,h = imgs[0].size\n",
        "    grid = Image.new('RGB', size=(cols*w, rows*h))\n",
        "    for i, img in enumerate(imgs): grid.paste(img, box=(i%cols*w, i//cols*h))\n",
        "    return grid"
      ]
    },
    {
      "cell_type": "code",
      "execution_count": null,
      "metadata": {},
      "outputs": [],
      "source": [
        "pipeline, params = FlaxStableDiffusionPipeline.from_pretrained(\"stabilityai/stable-diffusion-2-1\", revision=\"bf16\", dtype=jnp.bfloat16)\n",
        "p_params = replicate(params)"
      ]
    },
    {
      "cell_type": "code",
      "execution_count": null,
      "metadata": {
        "id": "hRVsA7iYxpMj"
      },
      "outputs": [],
      "source": [
        "prompt = \"beautiful mountain by the lake, panoramic, professional photography\" #@param {type:\"string\"}\n",
        "neg_prompt = \"bad anatomy, ugly, missing arms, missing legs, extra limbs, extra fingers, mutation, mutilated, distorted face, deformed body features, poor quality\" #@param {type:\"string\"}\n",
        "num_inference_steps = 50 #@param {type:\"integer\"}\n",
        "seed = -1 #@param {type:\"integer\"}\n",
        "#@markdown `-1` will set a random seed. You can replace that to any integer for reproducible results\n",
        "\n",
        "if(seed == -1):\n",
        "  import random\n",
        "  random_int = random.randint(0, 2147483647)\n",
        "  real_seed = random_int\n",
        "else:\n",
        "  real_seed = seed\n",
        "prng_seed = jax.random.PRNGKey(real_seed)\n",
        "prng_seed = jax.random.split(prng_seed, jax.device_count())\n",
        "num_samples = jax.device_count()\n",
        "prompt = num_samples * [prompt]\n",
        "neg_prompt = num_samples * [neg_prompt]\n",
        "prompt_ids = pipeline.prepare_inputs(prompt)\n",
        "prompt_ids = shard(prompt_ids)\n",
        "neg_prompt_ids = pipeline.prepare_inputs(neg_prompt)\n",
        "neg_prompt_ids = shard(neg_prompt_ids)\n",
        "start = time.time()\n",
        "images = pipeline(prompt_ids, p_params, prng_seed, num_inference_steps, neg_prompt_ids=neg_prompt_ids, jit=True).images\n",
        "images_pil = pipeline.numpy_to_pil(np.asarray(images.reshape((num_samples,) + images.shape[-3:])))\n",
        "end = time.time()\n",
        "print(f\"Seed:\\t{real_seed}\\nTime:\\t{(end - start)}s\")\n",
        "image_grid(images_pil, 2, 4)"
      ]
    }
  ],
  "metadata": {
    "accelerator": "TPU",
    "colab": {
      "machine_shape": "hm",
      "name": "Stable_Diffusion_TPU.ipynb",
      "private_outputs": true,
      "provenance": []
    },
    "gpuClass": "standard",
    "kernelspec": {
      "display_name": "Python 3",
      "name": "python3"
    },
    "language_info": {
      "name": "python"
    }
  },
  "nbformat": 4,
  "nbformat_minor": 0
}
